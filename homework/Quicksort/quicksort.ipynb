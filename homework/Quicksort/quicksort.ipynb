{
 "cells": [
  {
   "cell_type": "code",
   "execution_count": 1,
   "metadata": {},
   "outputs": [],
   "source": [
    "def quick_sort(data):\n",
    "        smaller=[]#比pivot1小的數，位於左側\n",
    "        bigger=[]#比pivot1大的數，位於右側\n",
    "        pivot1=[]#第二層以後的基準點\n",
    "        \n",
    "\n",
    "        if len(data)<=1:\n",
    "                return data #當這個data裡面的數值總數小於1的時候，就直接回傳data\n",
    "        else:\n",
    "                pivot=data[0]#基準點選擇第一個數   \n",
    "                for i in data:\n",
    "                        if i < pivot:\n",
    "                                smaller.append(i)#比pivot小的數加入smaller\n",
    "                        elif i >pivot:\n",
    "                                bigger.append(i)#比pivor的數加入bigger\n",
    "                        else:\n",
    "                                pivot1.append(i)#和pivot一樣大的數加入pivot1\n",
    "        smaller = quick_sort(smaller)#後面的層數也要重複這個一次\n",
    "        bigger = quick_sort(bigger)\n",
    "        return smaller+pivot1+bigger"
   ]
  },
  {
   "cell_type": "code",
   "execution_count": 2,
   "metadata": {},
   "outputs": [],
   "source": [
    "data=[7,2,10,21,1,3,5,11]"
   ]
  },
  {
   "cell_type": "code",
   "execution_count": 3,
   "metadata": {},
   "outputs": [
    {
     "data": {
      "text/plain": [
       "[1, 2, 3, 5, 7, 10, 11, 21]"
      ]
     },
     "execution_count": 3,
     "metadata": {},
     "output_type": "execute_result"
    }
   ],
   "source": [
    "quick_sort(data)"
   ]
  },
  {
   "cell_type": "code",
   "execution_count": null,
   "metadata": {},
   "outputs": [],
   "source": []
  }
 ],
 "metadata": {
  "kernelspec": {
   "display_name": "Python 3",
   "language": "python",
   "name": "python3"
  },
  "language_info": {
   "codemirror_mode": {
    "name": "ipython",
    "version": 3
   },
   "file_extension": ".py",
   "mimetype": "text/x-python",
   "name": "python",
   "nbconvert_exporter": "python",
   "pygments_lexer": "ipython3",
   "version": "3.7.4"
  }
 },
 "nbformat": 4,
 "nbformat_minor": 2
}
