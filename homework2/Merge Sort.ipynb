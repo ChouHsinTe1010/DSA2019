{
 "cells": [
  {
   "cell_type": "markdown",
   "metadata": {},
   "source": [
    "參考資料來源：https://www.geeksforgeeks.org/merge-sort/\n",
    "除了參考這個還有觀看影片了解邏輯。https://youtu.be/JSceec-wEyw\n",
    "1首先我先透過畫結構圖來了解Merge Sort基本架構原則。\n",
    "我初步想將num這串數分成兩部分，我要取的位置為第一個數跟最後一個數中間值。"
   ]
  },
  {
   "cell_type": "code",
   "execution_count": 1,
   "metadata": {},
   "outputs": [],
   "source": [
    "def mergesort(num):\n",
    "    low=num[0]\n",
    "    high=num[-1]\n",
    "    if len(num)>1:\n",
    "        mid=(low+high)/2\n",
    "        left_num=num[:mid]\n",
    "        right_num=num[mid:]\n",
    "        \n",
    "        "
   ]
  },
  {
   "cell_type": "markdown",
   "metadata": {},
   "source": [
    "目前遇到一些瓶頸，不知道要怎麼繼續下去。發現python除法為//非/"
   ]
  },
  {
   "cell_type": "code",
   "execution_count": 2,
   "metadata": {},
   "outputs": [],
   "source": [
    "def mergesort(num):\n",
    "    low=num[0]\n",
    "    high=num[-1]\n",
    "    if len(num)>1:\n",
    "        mid=(low+high)//2\n",
    "        left_num=num[:mid]\n",
    "        right_num=num[mid:]\n",
    "        \n",
    "        mergesort(left_num)\n",
    "        mergesort(right_num)"
   ]
  },
  {
   "cell_type": "markdown",
   "metadata": {},
   "source": []
  },
  {
   "cell_type": "code",
   "execution_count": 3,
   "metadata": {},
   "outputs": [
    {
     "ename": "SyntaxError",
     "evalue": "invalid syntax (<ipython-input-3-b2d8ff315ff0>, line 14)",
     "output_type": "error",
     "traceback": [
      "\u001b[0;36m  File \u001b[0;32m\"<ipython-input-3-b2d8ff315ff0>\"\u001b[0;36m, line \u001b[0;32m14\u001b[0m\n\u001b[0;31m    for index<left_num:\u001b[0m\n\u001b[0m             ^\u001b[0m\n\u001b[0;31mSyntaxError\u001b[0m\u001b[0;31m:\u001b[0m invalid syntax\n"
     ]
    }
   ],
   "source": [
    "def mergesort(num):\n",
    "    low=num[0]\n",
    "    high=num[-1]\n",
    "    if len(num)>1:\n",
    "        mid=(low+high)//2\n",
    "        left_num=num[:mid]\n",
    "        right_num=num[mid:]\n",
    "        \n",
    "        mergesort(left_num)\n",
    "        mergesort(right_num)\n",
    "        \n",
    "        index=a=b=0\n",
    "        \n",
    "    for index<left_num:\n",
    "        num[k]=left_num[index]\n",
    "        \n",
    "        \n",
    "    \n",
    "        \n",
    "        \n",
    "       "
   ]
  },
  {
   "cell_type": "markdown",
   "metadata": {},
   "source": []
  },
  {
   "cell_type": "code",
   "execution_count": 2,
   "metadata": {},
   "outputs": [],
   "source": [
    "def mergesort(num):\n",
    "    low=num[0]\n",
    "    high=num[-1]\n",
    "    if len(num)>1:\n",
    "        mid=(low+high)//2\n",
    "        left_num=num[:mid]\n",
    "        right_num=num[mid:]\n",
    "        \n",
    "        mergesort(left_num)\n",
    "        mergesort(right_num)\n",
    "        \n",
    "        r=m=l=0#r為最右邊的第一值，l為最左邊的第一值\n",
    "        \n",
    "    while l <len(left_num) and r<len(right_num):#左的第幾位數在小於這串樹以前都不會停止。同理右邊也是。\n",
    "    \n",
    "        if left_num[l]<= right_num[r]:\n",
    "            num[m]=left_num[l]\n",
    "            l=l+1"
   ]
  },
  {
   "cell_type": "markdown",
   "metadata": {},
   "source": []
  },
  {
   "cell_type": "code",
   "execution_count": 3,
   "metadata": {},
   "outputs": [
    {
     "ename": "SyntaxError",
     "evalue": "invalid syntax (<ipython-input-3-d96a2d1681e7>, line 16)",
     "output_type": "error",
     "traceback": [
      "\u001b[0;36m  File \u001b[0;32m\"<ipython-input-3-d96a2d1681e7>\"\u001b[0;36m, line \u001b[0;32m16\u001b[0m\n\u001b[0;31m    if left_num[l]< right_num[r]def mergesort(num):\u001b[0m\n\u001b[0m                                  ^\u001b[0m\n\u001b[0;31mSyntaxError\u001b[0m\u001b[0;31m:\u001b[0m invalid syntax\n"
     ]
    }
   ],
   "source": [
    "def mergesort(num):\n",
    "    low=num[0]\n",
    "    high=num[-1]\n",
    "    if len(num)>1:\n",
    "        mid=(low+high)//2\n",
    "        left_num=num[:mid]\n",
    "        right_num=num[mid:]\n",
    "        \n",
    "        mergesort(left_num)\n",
    "        mergesort(right_num)\n",
    "        \n",
    "        r=m=l=0#r為最右邊的第一值，l為最左邊的第一值\n",
    "        \n",
    "    while l <len(left_num) and r<len(right_num):#左的第幾位數在小於這串樹以前都不會停止。同理右邊也是。\n",
    "    \n",
    "        if left_num[l]< right_num[r]def mergesort(num):\n",
    "    low=num[0]\n",
    "    high=num[-1]\n",
    "    if len(num)>1:\n",
    "        mid=(low+high)//2\n",
    "        left_num=num[:mid]\n",
    "        right_num=num[mid:]\n",
    "        \n",
    "        mergesort(left_num)\n",
    "        mergesort(right_num)\n",
    "        \n",
    "        r=m=l=0#r為最右邊的第一值，l為最左邊的第一值\n",
    "        \n",
    "    while l <len(left_num) and r<len(right_num):#左的第幾位數在小於這串樹以前都不會停止。同理右邊也是。\n",
    "    \n",
    "        if right_num[r]< left_num[l]:\n",
    "            num[m]=right[r]\n",
    "            r=r+1\n",
    "        else:\n",
    "            num[m]=left_num[l]\n",
    "            l=l+1\n",
    "        m=m+1"
   ]
  },
  {
   "cell_type": "markdown",
   "metadata": {},
   "source": []
  },
  {
   "cell_type": "code",
   "execution_count": 4,
   "metadata": {},
   "outputs": [
    {
     "ename": "SyntaxError",
     "evalue": "invalid syntax (<ipython-input-4-73be0600b9fa>, line 16)",
     "output_type": "error",
     "traceback": [
      "\u001b[0;36m  File \u001b[0;32m\"<ipython-input-4-73be0600b9fa>\"\u001b[0;36m, line \u001b[0;32m16\u001b[0m\n\u001b[0;31m    if left_num[l]< right_num[r]def mergesort(num):\u001b[0m\n\u001b[0m                                  ^\u001b[0m\n\u001b[0;31mSyntaxError\u001b[0m\u001b[0;31m:\u001b[0m invalid syntax\n"
     ]
    }
   ],
   "source": [
    "def mergesort(num):\n",
    "    low=num[0]\n",
    "    high=num[-1]\n",
    "    if len(num)>1:\n",
    "        mid=(low+high)//2\n",
    "        left_num=num[:mid]\n",
    "        right_num=num[mid:]\n",
    "        \n",
    "        mergesort(left_num)\n",
    "        mergesort(right_num)\n",
    "        \n",
    "        r=m=l=0#r為最右邊的第一值，l為最左邊的第一值\n",
    "        \n",
    "    while l <len(left_num) and r<len(right_num):#左的第幾位數在小於這串樹以前都不會停止。同理右邊也是。\n",
    "    \n",
    "        if left_num[l]< right_num[r]def mergesort(num):\n",
    "    low=num[0]\n",
    "    high=num[-1]\n",
    "    if len(num)>1:\n",
    "        mid=(low+high)//2\n",
    "        left_num=num[:mid]\n",
    "        right_num=num[mid:]\n",
    "        \n",
    "        mergesort(left_num)\n",
    "        mergesort(right_num)\n",
    "        \n",
    "        r=m=l=0#r為最右邊的第一值，l為最左邊的第一值\n",
    "        \n",
    "    while l <len(left_num) and r<len(right_num):#左的第幾位數在小於這串樹以前都不會停止。同理右邊也是。\n",
    "        if right_num[r]< left_num[l]:\n",
    "            num[m]=right[r]\n",
    "            r=r+1\n",
    "        else:\n",
    "            num[m]=left_num[l]\n",
    "            l=l+1\n",
    "        m=m+1\n",
    "        \n",
    "    while r< len(right_num):\n",
    "        num[m]=right_num[r]\n",
    "        \n",
    "    while l <len(left_num):\n",
    "        num[m]=left_num[l]\n",
    "        "
   ]
  },
  {
   "cell_type": "markdown",
   "metadata": {},
   "source": []
  },
  {
   "cell_type": "code",
   "execution_count": 6,
   "metadata": {},
   "outputs": [],
   "source": []
  },
  {
   "cell_type": "code",
   "execution_count": 7,
   "metadata": {},
   "outputs": [
    {
     "ename": "UnboundLocalError",
     "evalue": "local variable 'l' referenced before assignment",
     "output_type": "error",
     "traceback": [
      "\u001b[0;31m---------------------------------------------------------------------------\u001b[0m",
      "\u001b[0;31mUnboundLocalError\u001b[0m                         Traceback (most recent call last)",
      "\u001b[0;32m<ipython-input-7-261474a14515>\u001b[0m in \u001b[0;36m<module>\u001b[0;34m\u001b[0m\n\u001b[1;32m      1\u001b[0m \u001b[0mnum\u001b[0m\u001b[0;34m=\u001b[0m\u001b[0;34m[\u001b[0m\u001b[0;36m0\u001b[0m\u001b[0;34m,\u001b[0m\u001b[0;36m1\u001b[0m\u001b[0;34m,\u001b[0m\u001b[0;36m4\u001b[0m\u001b[0;34m,\u001b[0m\u001b[0;36m1\u001b[0m\u001b[0;34m,\u001b[0m\u001b[0;36m2\u001b[0m\u001b[0;34m]\u001b[0m\u001b[0;34m\u001b[0m\u001b[0;34m\u001b[0m\u001b[0m\n\u001b[0;32m----> 2\u001b[0;31m \u001b[0mmergesort\u001b[0m\u001b[0;34m(\u001b[0m\u001b[0mnum\u001b[0m\u001b[0;34m)\u001b[0m\u001b[0;34m\u001b[0m\u001b[0;34m\u001b[0m\u001b[0m\n\u001b[0m",
      "\u001b[0;32m<ipython-input-6-e0a19def346c>\u001b[0m in \u001b[0;36mmergesort\u001b[0;34m(num)\u001b[0m\n\u001b[1;32m      7\u001b[0m         \u001b[0mright_num\u001b[0m\u001b[0;34m=\u001b[0m\u001b[0mnum\u001b[0m\u001b[0;34m[\u001b[0m\u001b[0mmid\u001b[0m\u001b[0;34m:\u001b[0m\u001b[0;34m]\u001b[0m\u001b[0;34m\u001b[0m\u001b[0;34m\u001b[0m\u001b[0m\n\u001b[1;32m      8\u001b[0m \u001b[0;34m\u001b[0m\u001b[0m\n\u001b[0;32m----> 9\u001b[0;31m         \u001b[0mmergesort\u001b[0m\u001b[0;34m(\u001b[0m\u001b[0mleft_num\u001b[0m\u001b[0;34m)\u001b[0m\u001b[0;34m\u001b[0m\u001b[0;34m\u001b[0m\u001b[0m\n\u001b[0m\u001b[1;32m     10\u001b[0m         \u001b[0mmergesort\u001b[0m\u001b[0;34m(\u001b[0m\u001b[0mright_num\u001b[0m\u001b[0;34m)\u001b[0m\u001b[0;34m\u001b[0m\u001b[0;34m\u001b[0m\u001b[0m\n\u001b[1;32m     11\u001b[0m \u001b[0;34m\u001b[0m\u001b[0m\n",
      "\u001b[0;32m<ipython-input-6-e0a19def346c>\u001b[0m in \u001b[0;36mmergesort\u001b[0;34m(num)\u001b[0m\n\u001b[1;32m     12\u001b[0m         \u001b[0mr\u001b[0m\u001b[0;34m=\u001b[0m\u001b[0mm\u001b[0m\u001b[0;34m=\u001b[0m\u001b[0ml\u001b[0m\u001b[0;34m=\u001b[0m\u001b[0;36m0\u001b[0m\u001b[0;31m#r為最右邊的第一值，l為最左邊的第一值\u001b[0m\u001b[0;34m\u001b[0m\u001b[0;34m\u001b[0m\u001b[0m\n\u001b[1;32m     13\u001b[0m \u001b[0;34m\u001b[0m\u001b[0m\n\u001b[0;32m---> 14\u001b[0;31m     \u001b[0;32mwhile\u001b[0m \u001b[0ml\u001b[0m \u001b[0;34m<\u001b[0m\u001b[0mlen\u001b[0m\u001b[0;34m(\u001b[0m\u001b[0mleft_num\u001b[0m\u001b[0;34m)\u001b[0m \u001b[0;32mand\u001b[0m \u001b[0mr\u001b[0m\u001b[0;34m<\u001b[0m\u001b[0mlen\u001b[0m\u001b[0;34m(\u001b[0m\u001b[0mright_num\u001b[0m\u001b[0;34m)\u001b[0m\u001b[0;34m:\u001b[0m\u001b[0;31m#左的第幾位數在小於這串樹以前都不會停止。同理右邊也是。\u001b[0m\u001b[0;34m\u001b[0m\u001b[0;34m\u001b[0m\u001b[0m\n\u001b[0m\u001b[1;32m     15\u001b[0m         \u001b[0;32mif\u001b[0m \u001b[0mright_num\u001b[0m\u001b[0;34m[\u001b[0m\u001b[0mr\u001b[0m\u001b[0;34m]\u001b[0m\u001b[0;34m<\u001b[0m \u001b[0mleft_num\u001b[0m\u001b[0;34m[\u001b[0m\u001b[0ml\u001b[0m\u001b[0;34m]\u001b[0m\u001b[0;34m:\u001b[0m\u001b[0;34m\u001b[0m\u001b[0;34m\u001b[0m\u001b[0m\n\u001b[1;32m     16\u001b[0m             \u001b[0mnum\u001b[0m\u001b[0;34m[\u001b[0m\u001b[0mm\u001b[0m\u001b[0;34m]\u001b[0m\u001b[0;34m=\u001b[0m\u001b[0mright\u001b[0m\u001b[0;34m[\u001b[0m\u001b[0mr\u001b[0m\u001b[0;34m]\u001b[0m\u001b[0;34m\u001b[0m\u001b[0;34m\u001b[0m\u001b[0m\n",
      "\u001b[0;31mUnboundLocalError\u001b[0m: local variable 'l' referenced before assignment"
     ]
    }
   ],
   "source": [
    "num=[0,1,4,1,2]\n",
    "mergesort(num)"
   ]
  },
  {
   "cell_type": "markdown",
   "metadata": {},
   "source": []
  },
  {
   "cell_type": "markdown",
   "metadata": {},
   "source": []
  },
  {
   "cell_type": "code",
   "execution_count": 9,
   "metadata": {},
   "outputs": [
    {
     "ename": "TypeError",
     "evalue": "object of type 'int' has no len()",
     "output_type": "error",
     "traceback": [
      "\u001b[0;31m---------------------------------------------------------------------------\u001b[0m",
      "\u001b[0;31mTypeError\u001b[0m                                 Traceback (most recent call last)",
      "\u001b[0;32m<ipython-input-9-098c6d93829c>\u001b[0m in \u001b[0;36m<module>\u001b[0;34m\u001b[0m\n\u001b[1;32m     31\u001b[0m         \u001b[0mm\u001b[0m\u001b[0;34m=\u001b[0m\u001b[0mm\u001b[0m\u001b[0;34m+\u001b[0m\u001b[0;36m1\u001b[0m\u001b[0;34m\u001b[0m\u001b[0;34m\u001b[0m\u001b[0m\n\u001b[1;32m     32\u001b[0m \u001b[0mnum\u001b[0m\u001b[0;34m=\u001b[0m\u001b[0;34m[\u001b[0m\u001b[0;36m0\u001b[0m\u001b[0;34m,\u001b[0m\u001b[0;36m1\u001b[0m\u001b[0;34m,\u001b[0m\u001b[0;36m4\u001b[0m\u001b[0;34m,\u001b[0m\u001b[0;36m1\u001b[0m\u001b[0;34m,\u001b[0m\u001b[0;36m2\u001b[0m\u001b[0;34m]\u001b[0m\u001b[0;34m\u001b[0m\u001b[0;34m\u001b[0m\u001b[0m\n\u001b[0;32m---> 33\u001b[0;31m \u001b[0mmergesort\u001b[0m\u001b[0;34m(\u001b[0m\u001b[0mnum\u001b[0m\u001b[0;34m)\u001b[0m\u001b[0;34m\u001b[0m\u001b[0;34m\u001b[0m\u001b[0m\n\u001b[0m",
      "\u001b[0;32m<ipython-input-9-098c6d93829c>\u001b[0m in \u001b[0;36mmergesort\u001b[0;34m(num)\u001b[0m\n\u001b[1;32m      3\u001b[0m     \u001b[0mhigh\u001b[0m\u001b[0;34m=\u001b[0m\u001b[0mnum\u001b[0m\u001b[0;34m[\u001b[0m\u001b[0;34m-\u001b[0m\u001b[0;36m1\u001b[0m\u001b[0;34m]\u001b[0m\u001b[0;34m\u001b[0m\u001b[0;34m\u001b[0m\u001b[0m\n\u001b[1;32m      4\u001b[0m     \u001b[0;32mif\u001b[0m \u001b[0mlen\u001b[0m\u001b[0;34m(\u001b[0m\u001b[0mnum\u001b[0m\u001b[0;34m)\u001b[0m\u001b[0;34m>\u001b[0m\u001b[0;36m1\u001b[0m\u001b[0;34m:\u001b[0m\u001b[0;34m\u001b[0m\u001b[0;34m\u001b[0m\u001b[0m\n\u001b[0;32m----> 5\u001b[0;31m         \u001b[0mmid1\u001b[0m\u001b[0;34m=\u001b[0m\u001b[0mlen\u001b[0m\u001b[0;34m(\u001b[0m\u001b[0mlow\u001b[0m\u001b[0;34m)\u001b[0m\u001b[0;34m+\u001b[0m\u001b[0mlen\u001b[0m\u001b[0;34m(\u001b[0m\u001b[0mhigh\u001b[0m\u001b[0;34m)\u001b[0m\u001b[0;34m\u001b[0m\u001b[0;34m\u001b[0m\u001b[0m\n\u001b[0m\u001b[1;32m      6\u001b[0m         \u001b[0mmid\u001b[0m\u001b[0;34m=\u001b[0m\u001b[0mmid1\u001b[0m\u001b[0;34m//\u001b[0m\u001b[0;36m2\u001b[0m\u001b[0;34m\u001b[0m\u001b[0;34m\u001b[0m\u001b[0m\n\u001b[1;32m      7\u001b[0m         \u001b[0mleft_num\u001b[0m\u001b[0;34m=\u001b[0m\u001b[0mnum\u001b[0m\u001b[0;34m[\u001b[0m\u001b[0;34m:\u001b[0m\u001b[0mmid\u001b[0m\u001b[0;34m]\u001b[0m\u001b[0;34m\u001b[0m\u001b[0;34m\u001b[0m\u001b[0m\n",
      "\u001b[0;31mTypeError\u001b[0m: object of type 'int' has no len()"
     ]
    }
   ],
   "source": [
    "def mergesort(num):\n",
    "    low=num[0]\n",
    "    high=num[-1]\n",
    "    if len(num)>1:\n",
    "        mid1=len(low)+len(high)\n",
    "        mid=mid1//2\n",
    "        left_num=num[:mid]\n",
    "        right_num=num[mid:]\n",
    "        \n",
    "        mergesort(left_num)\n",
    "        mergesort(right_num)\n",
    "        \n",
    "        r=m=l=0 #r為最右邊的第一值，l為最左邊的第一值\n",
    "        \n",
    "    while l <len(left_num) and r<len(right_num):#左的第幾位數在小於這串樹以前都不會停止。同理右邊也是。\n",
    "        if right_num[r]< left_num[l]:\n",
    "            num[m]=right[r]\n",
    "            r=r+1\n",
    "        else:\n",
    "            num[m]=left_num[l]\n",
    "            l=l+1\n",
    "        m=m+1\n",
    "        \n",
    "    while r< len(right_num):\n",
    "        num[m]=right_num[r]\n",
    "        r=r+1\n",
    "        m=m+1\n",
    "    while l <len(left_num):\n",
    "        num[m]=left_num[l]\n",
    "        l=l+1\n",
    "        m=m+1\n",
    "num=[0,1,4,1,2]\n",
    "mergesort(num)      "
   ]
  },
  {
   "cell_type": "markdown",
   "metadata": {},
   "source": [
    "經過同學提醒，因為規定格式，所以前面必須統一用class來跑。\n",
    "同時取中間數，不建議使用(high+low)//2這種語法，會減緩執行的速度。\n",
    "只需要長度除2即可"
   ]
  },
  {
   "cell_type": "code",
   "execution_count": 11,
   "metadata": {},
   "outputs": [
    {
     "ename": "IndentationError",
     "evalue": "expected an indented block (<ipython-input-11-f77b8c3f76f2>, line 3)",
     "output_type": "error",
     "traceback": [
      "\u001b[0;36m  File \u001b[0;32m\"<ipython-input-11-f77b8c3f76f2>\"\u001b[0;36m, line \u001b[0;32m3\u001b[0m\n\u001b[0;31m    if len(num)>1:\u001b[0m\n\u001b[0m     ^\u001b[0m\n\u001b[0;31mIndentationError\u001b[0m\u001b[0;31m:\u001b[0m expected an indented block\n"
     ]
    }
   ],
   "source": [
    "class Solution(objecjt):\n",
    "    def mergesort(self,num):\n",
    "    if len(num)>1:\n",
    "        mid=len(num)//2\n",
    "        left_num=num[:mid]\n",
    "        right_num=num[mid:]\n",
    "        Solution().mergesort(left_num)\n",
    "        Solution().mergesort(right_num)\n",
    "        \n",
    "        r=m=l=0 #r為最右邊的第一值，l為最左邊的第一值\n",
    "        \n",
    "    while l <len(left_num) and r<len(right_num):#左的第幾位數在小於這串樹以前都不會停止。同理右邊也是。\n",
    "        if right_num[r]< left_num[l]:\n",
    "            num[m]=right[r]\n",
    "            r=r+1\n",
    "        else:\n",
    "            num[m]=left_num[l]\n",
    "            l=l+1\n",
    "        m=m+1\n",
    "        \n",
    "    while r< len(right_num):\n",
    "        num[m]=right_num[r]\n",
    "        r=r+1\n",
    "        m=m+1\n",
    "    while l <len(left_num):\n",
    "        num[m]=left_num[l]\n",
    "        l=l+1\n",
    "        m=m+1\n",
    "    return num\n",
    "    "
   ]
  },
  {
   "cell_type": "markdown",
   "metadata": {},
   "source": [
    "我的間隔好像是有問題的，重新排序。"
   ]
  },
  {
   "cell_type": "code",
   "execution_count": 12,
   "metadata": {},
   "outputs": [
    {
     "ename": "NameError",
     "evalue": "name 'objecjt' is not defined",
     "output_type": "error",
     "traceback": [
      "\u001b[0;31m---------------------------------------------------------------------------\u001b[0m",
      "\u001b[0;31mNameError\u001b[0m                                 Traceback (most recent call last)",
      "\u001b[0;32m<ipython-input-12-f25b9111b866>\u001b[0m in \u001b[0;36m<module>\u001b[0;34m\u001b[0m\n\u001b[0;32m----> 1\u001b[0;31m \u001b[0;32mclass\u001b[0m \u001b[0mSolution\u001b[0m\u001b[0;34m(\u001b[0m\u001b[0mobjecjt\u001b[0m\u001b[0;34m)\u001b[0m\u001b[0;34m:\u001b[0m\u001b[0;34m\u001b[0m\u001b[0;34m\u001b[0m\u001b[0m\n\u001b[0m\u001b[1;32m      2\u001b[0m     \u001b[0;32mdef\u001b[0m \u001b[0mmergesort\u001b[0m\u001b[0;34m(\u001b[0m\u001b[0mself\u001b[0m\u001b[0;34m,\u001b[0m\u001b[0mnum\u001b[0m\u001b[0;34m)\u001b[0m\u001b[0;34m:\u001b[0m\u001b[0;34m\u001b[0m\u001b[0;34m\u001b[0m\u001b[0m\n\u001b[1;32m      3\u001b[0m         \u001b[0;32mif\u001b[0m \u001b[0mlen\u001b[0m\u001b[0;34m(\u001b[0m\u001b[0mnum\u001b[0m\u001b[0;34m)\u001b[0m\u001b[0;34m>\u001b[0m\u001b[0;36m1\u001b[0m\u001b[0;34m:\u001b[0m\u001b[0;34m\u001b[0m\u001b[0;34m\u001b[0m\u001b[0m\n\u001b[1;32m      4\u001b[0m             \u001b[0mmid\u001b[0m\u001b[0;34m=\u001b[0m\u001b[0mlen\u001b[0m\u001b[0;34m(\u001b[0m\u001b[0mnum\u001b[0m\u001b[0;34m)\u001b[0m\u001b[0;34m\u001b[0m\u001b[0;34m\u001b[0m\u001b[0m\n\u001b[1;32m      5\u001b[0m             \u001b[0mleft_num\u001b[0m\u001b[0;34m=\u001b[0m\u001b[0mnum\u001b[0m\u001b[0;34m[\u001b[0m\u001b[0;34m:\u001b[0m\u001b[0mmid\u001b[0m\u001b[0;34m]\u001b[0m\u001b[0;34m\u001b[0m\u001b[0;34m\u001b[0m\u001b[0m\n",
      "\u001b[0;31mNameError\u001b[0m: name 'objecjt' is not defined"
     ]
    }
   ],
   "source": [
    "class Solution(objejct):\n",
    "    def mergesort(self,num):\n",
    "        if len(num)>1:\n",
    "            mid=len(num)//2\n",
    "            left_num=num[:mid]\n",
    "            right_num=num[mid:]\n",
    "            Solution().mergesort(left_num)\n",
    "            Solution().mergesort(right_num)\n",
    "            r=m=l=0 #r為最右邊的第一值，l為最左邊的第一值\n",
    "            \n",
    "            while l <len(left_num) and r<len(right_num):#左的第幾位數在小於這串樹以前都不會停止。同理右邊也是。\n",
    "                if right_num[r]< left_num[l]:\n",
    "                    num[m]=right[r]\n",
    "                    r=r+1\n",
    "                else:\n",
    "                    num[m]=left_num[l]\n",
    "                    l=l+1\n",
    "                m=m+1\n",
    "            while r< len(right_num):\n",
    "                num[m]=right_num[r]\n",
    "                r=r+1\n",
    "                m=m+1\n",
    "            while l <len(left_num):\n",
    "                num[m]=left_num[l]\n",
    "                l=l+1\n",
    "                m=m+1\n",
    "            return num\n",
    "    "
   ]
  },
  {
   "cell_type": "code",
   "execution_count": 13,
   "metadata": {},
   "outputs": [],
   "source": [
    "class Solution(object):\n",
    "    def mergesort(self,num):\n",
    "        if len(num)>1:\n",
    "            mid=len(num)\n",
    "            left_num=num[:mid]\n",
    "            right_num=num[mid:]\n",
    "            Solution().mergesort(left_num)\n",
    "            Solution().mergesort(right_num)\n",
    "            r=m=l=0 #r為最右邊的第一值，l為最左邊的第一值\n",
    "            \n",
    "            while l <len(left_num) and r<len(right_num):#左的第幾位數在小於這串樹以前都不會停止。同理右邊也是。\n",
    "                if right_num[r]< left_num[l]:\n",
    "                    num[m]=right[r]\n",
    "                    r=r+1\n",
    "                else:\n",
    "                    num[m]=left_num[l]\n",
    "                    l=l+1\n",
    "                m=m+1\n",
    "            while r< len(right_num):\n",
    "                num[m]=right_num[r]\n",
    "                r=r+1\n",
    "                m=m+1\n",
    "            while l <len(left_num):\n",
    "                num[m]=left_num[l]\n",
    "                l=l+1\n",
    "                m=m+1\n",
    "            return num\n",
    "    "
   ]
  },
  {
   "cell_type": "code",
   "execution_count": 14,
   "metadata": {},
   "outputs": [
    {
     "ename": "RecursionError",
     "evalue": "maximum recursion depth exceeded while calling a Python object",
     "output_type": "error",
     "traceback": [
      "\u001b[0;31m---------------------------------------------------------------------------\u001b[0m",
      "\u001b[0;31mRecursionError\u001b[0m                            Traceback (most recent call last)",
      "\u001b[0;32m<ipython-input-14-de5c2e37f824>\u001b[0m in \u001b[0;36m<module>\u001b[0;34m\u001b[0m\n\u001b[1;32m      1\u001b[0m \u001b[0mnum\u001b[0m\u001b[0;34m=\u001b[0m\u001b[0;34m[\u001b[0m\u001b[0;36m0\u001b[0m\u001b[0;34m,\u001b[0m\u001b[0;36m3\u001b[0m\u001b[0;34m,\u001b[0m\u001b[0;36m1\u001b[0m\u001b[0;34m,\u001b[0m\u001b[0;36m5\u001b[0m\u001b[0;34m,\u001b[0m\u001b[0;36m1\u001b[0m\u001b[0;34m,\u001b[0m\u001b[0;36m2\u001b[0m\u001b[0;34m]\u001b[0m\u001b[0;34m\u001b[0m\u001b[0;34m\u001b[0m\u001b[0m\n\u001b[0;32m----> 2\u001b[0;31m \u001b[0mSolution\u001b[0m\u001b[0;34m(\u001b[0m\u001b[0;34m)\u001b[0m\u001b[0;34m.\u001b[0m\u001b[0mmergesort\u001b[0m\u001b[0;34m(\u001b[0m\u001b[0mnum\u001b[0m\u001b[0;34m)\u001b[0m\u001b[0;34m\u001b[0m\u001b[0;34m\u001b[0m\u001b[0m\n\u001b[0m\u001b[1;32m      3\u001b[0m \u001b[0mnum\u001b[0m\u001b[0;34m\u001b[0m\u001b[0;34m\u001b[0m\u001b[0m\n",
      "\u001b[0;32m<ipython-input-13-f7763e9a6058>\u001b[0m in \u001b[0;36mmergesort\u001b[0;34m(self, num)\u001b[0m\n\u001b[1;32m      5\u001b[0m             \u001b[0mleft_num\u001b[0m\u001b[0;34m=\u001b[0m\u001b[0mnum\u001b[0m\u001b[0;34m[\u001b[0m\u001b[0;34m:\u001b[0m\u001b[0mmid\u001b[0m\u001b[0;34m]\u001b[0m\u001b[0;34m\u001b[0m\u001b[0;34m\u001b[0m\u001b[0m\n\u001b[1;32m      6\u001b[0m             \u001b[0mright_num\u001b[0m\u001b[0;34m=\u001b[0m\u001b[0mnum\u001b[0m\u001b[0;34m[\u001b[0m\u001b[0mmid\u001b[0m\u001b[0;34m:\u001b[0m\u001b[0;34m]\u001b[0m\u001b[0;34m\u001b[0m\u001b[0;34m\u001b[0m\u001b[0m\n\u001b[0;32m----> 7\u001b[0;31m             \u001b[0mSolution\u001b[0m\u001b[0;34m(\u001b[0m\u001b[0;34m)\u001b[0m\u001b[0;34m.\u001b[0m\u001b[0mmergesort\u001b[0m\u001b[0;34m(\u001b[0m\u001b[0mleft_num\u001b[0m\u001b[0;34m)\u001b[0m\u001b[0;34m\u001b[0m\u001b[0;34m\u001b[0m\u001b[0m\n\u001b[0m\u001b[1;32m      8\u001b[0m             \u001b[0mSolution\u001b[0m\u001b[0;34m(\u001b[0m\u001b[0;34m)\u001b[0m\u001b[0;34m.\u001b[0m\u001b[0mmergesort\u001b[0m\u001b[0;34m(\u001b[0m\u001b[0mright_num\u001b[0m\u001b[0;34m)\u001b[0m\u001b[0;34m\u001b[0m\u001b[0;34m\u001b[0m\u001b[0m\n\u001b[1;32m      9\u001b[0m             \u001b[0mr\u001b[0m\u001b[0;34m=\u001b[0m\u001b[0mm\u001b[0m\u001b[0;34m=\u001b[0m\u001b[0ml\u001b[0m\u001b[0;34m=\u001b[0m\u001b[0;36m0\u001b[0m \u001b[0;31m#r為最右邊的第一值，l為最左邊的第一值\u001b[0m\u001b[0;34m\u001b[0m\u001b[0;34m\u001b[0m\u001b[0m\n",
      "... last 1 frames repeated, from the frame below ...\n",
      "\u001b[0;32m<ipython-input-13-f7763e9a6058>\u001b[0m in \u001b[0;36mmergesort\u001b[0;34m(self, num)\u001b[0m\n\u001b[1;32m      5\u001b[0m             \u001b[0mleft_num\u001b[0m\u001b[0;34m=\u001b[0m\u001b[0mnum\u001b[0m\u001b[0;34m[\u001b[0m\u001b[0;34m:\u001b[0m\u001b[0mmid\u001b[0m\u001b[0;34m]\u001b[0m\u001b[0;34m\u001b[0m\u001b[0;34m\u001b[0m\u001b[0m\n\u001b[1;32m      6\u001b[0m             \u001b[0mright_num\u001b[0m\u001b[0;34m=\u001b[0m\u001b[0mnum\u001b[0m\u001b[0;34m[\u001b[0m\u001b[0mmid\u001b[0m\u001b[0;34m:\u001b[0m\u001b[0;34m]\u001b[0m\u001b[0;34m\u001b[0m\u001b[0;34m\u001b[0m\u001b[0m\n\u001b[0;32m----> 7\u001b[0;31m             \u001b[0mSolution\u001b[0m\u001b[0;34m(\u001b[0m\u001b[0;34m)\u001b[0m\u001b[0;34m.\u001b[0m\u001b[0mmergesort\u001b[0m\u001b[0;34m(\u001b[0m\u001b[0mleft_num\u001b[0m\u001b[0;34m)\u001b[0m\u001b[0;34m\u001b[0m\u001b[0;34m\u001b[0m\u001b[0m\n\u001b[0m\u001b[1;32m      8\u001b[0m             \u001b[0mSolution\u001b[0m\u001b[0;34m(\u001b[0m\u001b[0;34m)\u001b[0m\u001b[0;34m.\u001b[0m\u001b[0mmergesort\u001b[0m\u001b[0;34m(\u001b[0m\u001b[0mright_num\u001b[0m\u001b[0;34m)\u001b[0m\u001b[0;34m\u001b[0m\u001b[0;34m\u001b[0m\u001b[0m\n\u001b[1;32m      9\u001b[0m             \u001b[0mr\u001b[0m\u001b[0;34m=\u001b[0m\u001b[0mm\u001b[0m\u001b[0;34m=\u001b[0m\u001b[0ml\u001b[0m\u001b[0;34m=\u001b[0m\u001b[0;36m0\u001b[0m \u001b[0;31m#r為最右邊的第一值，l為最左邊的第一值\u001b[0m\u001b[0;34m\u001b[0m\u001b[0;34m\u001b[0m\u001b[0m\n",
      "\u001b[0;31mRecursionError\u001b[0m: maximum recursion depth exceeded while calling a Python object"
     ]
    }
   ],
   "source": [
    "num=[0,3,1,5,1,2]\n",
    "Solution().mergesort(num)\n",
    "num"
   ]
  },
  {
   "cell_type": "markdown",
   "metadata": {},
   "source": [
    "我發現我的mid忘記//2"
   ]
  },
  {
   "cell_type": "code",
   "execution_count": null,
   "metadata": {},
   "outputs": [],
   "source": [
    "class Solution(object):\n",
    "    def mergesort(self,num):\n",
    "        if len(num)>1:\n",
    "            mid=len(num)//2\n",
    "            left_num=num[:mid]\n",
    "            right_num=num[mid:]\n",
    "            Solution().mergesort(left_num)\n",
    "            Solution().mergesort(right_num)\n",
    "            r=m=l=0 #r為最右邊的第一值，l為最左邊的第一值\n",
    "            \n",
    "            while l <len(left_num) and r<len(right_num):#左的第幾位數在小於這串樹以前都不會停止。同理右邊也是。\n",
    "                if right_num[r]< left_num[l]:\n",
    "                    num[m]=right[r]\n",
    "                    r=r+1\n",
    "                else:\n",
    "                    num[m]=left_num[l]\n",
    "                    l=l+1\n",
    "                m=m+1\n",
    "            while r< len(right_num):\n",
    "                num[m]=right_num[r]\n",
    "                r=r+1\n",
    "                m=m+1\n",
    "            while l <len(left_num):\n",
    "                num[m]=left_num[l]\n",
    "                l=l+1\n",
    "                m=m+1\n",
    "            return num\n",
    "    "
   ]
  },
  {
   "cell_type": "code",
   "execution_count": 17,
   "metadata": {},
   "outputs": [
    {
     "ename": "NameError",
     "evalue": "name 'right' is not defined",
     "output_type": "error",
     "traceback": [
      "\u001b[0;31m---------------------------------------------------------------------------\u001b[0m",
      "\u001b[0;31mNameError\u001b[0m                                 Traceback (most recent call last)",
      "\u001b[0;32m<ipython-input-17-de5c2e37f824>\u001b[0m in \u001b[0;36m<module>\u001b[0;34m\u001b[0m\n\u001b[1;32m      1\u001b[0m \u001b[0mnum\u001b[0m\u001b[0;34m=\u001b[0m\u001b[0;34m[\u001b[0m\u001b[0;36m0\u001b[0m\u001b[0;34m,\u001b[0m\u001b[0;36m3\u001b[0m\u001b[0;34m,\u001b[0m\u001b[0;36m1\u001b[0m\u001b[0;34m,\u001b[0m\u001b[0;36m5\u001b[0m\u001b[0;34m,\u001b[0m\u001b[0;36m1\u001b[0m\u001b[0;34m,\u001b[0m\u001b[0;36m2\u001b[0m\u001b[0;34m]\u001b[0m\u001b[0;34m\u001b[0m\u001b[0;34m\u001b[0m\u001b[0m\n\u001b[0;32m----> 2\u001b[0;31m \u001b[0mSolution\u001b[0m\u001b[0;34m(\u001b[0m\u001b[0;34m)\u001b[0m\u001b[0;34m.\u001b[0m\u001b[0mmergesort\u001b[0m\u001b[0;34m(\u001b[0m\u001b[0mnum\u001b[0m\u001b[0;34m)\u001b[0m\u001b[0;34m\u001b[0m\u001b[0;34m\u001b[0m\u001b[0m\n\u001b[0m\u001b[1;32m      3\u001b[0m \u001b[0mnum\u001b[0m\u001b[0;34m\u001b[0m\u001b[0;34m\u001b[0m\u001b[0m\n",
      "\u001b[0;32m<ipython-input-16-b2c37186d7de>\u001b[0m in \u001b[0;36mmergesort\u001b[0;34m(self, num)\u001b[0m\n\u001b[1;32m      5\u001b[0m             \u001b[0mleft_num\u001b[0m\u001b[0;34m=\u001b[0m\u001b[0mnum\u001b[0m\u001b[0;34m[\u001b[0m\u001b[0;34m:\u001b[0m\u001b[0mmid\u001b[0m\u001b[0;34m]\u001b[0m\u001b[0;34m\u001b[0m\u001b[0;34m\u001b[0m\u001b[0m\n\u001b[1;32m      6\u001b[0m             \u001b[0mright_num\u001b[0m\u001b[0;34m=\u001b[0m\u001b[0mnum\u001b[0m\u001b[0;34m[\u001b[0m\u001b[0mmid\u001b[0m\u001b[0;34m:\u001b[0m\u001b[0;34m]\u001b[0m\u001b[0;34m\u001b[0m\u001b[0;34m\u001b[0m\u001b[0m\n\u001b[0;32m----> 7\u001b[0;31m             \u001b[0mSolution\u001b[0m\u001b[0;34m(\u001b[0m\u001b[0;34m)\u001b[0m\u001b[0;34m.\u001b[0m\u001b[0mmergesort\u001b[0m\u001b[0;34m(\u001b[0m\u001b[0mleft_num\u001b[0m\u001b[0;34m)\u001b[0m\u001b[0;34m\u001b[0m\u001b[0;34m\u001b[0m\u001b[0m\n\u001b[0m\u001b[1;32m      8\u001b[0m             \u001b[0mSolution\u001b[0m\u001b[0;34m(\u001b[0m\u001b[0;34m)\u001b[0m\u001b[0;34m.\u001b[0m\u001b[0mmergesort\u001b[0m\u001b[0;34m(\u001b[0m\u001b[0mright_num\u001b[0m\u001b[0;34m)\u001b[0m\u001b[0;34m\u001b[0m\u001b[0;34m\u001b[0m\u001b[0m\n\u001b[1;32m      9\u001b[0m             \u001b[0mr\u001b[0m\u001b[0;34m=\u001b[0m\u001b[0mm\u001b[0m\u001b[0;34m=\u001b[0m\u001b[0ml\u001b[0m\u001b[0;34m=\u001b[0m\u001b[0;36m0\u001b[0m \u001b[0;31m#r為最右邊的第一值，l為最左邊的第一值\u001b[0m\u001b[0;34m\u001b[0m\u001b[0;34m\u001b[0m\u001b[0m\n",
      "\u001b[0;32m<ipython-input-16-b2c37186d7de>\u001b[0m in \u001b[0;36mmergesort\u001b[0;34m(self, num)\u001b[0m\n\u001b[1;32m      6\u001b[0m             \u001b[0mright_num\u001b[0m\u001b[0;34m=\u001b[0m\u001b[0mnum\u001b[0m\u001b[0;34m[\u001b[0m\u001b[0mmid\u001b[0m\u001b[0;34m:\u001b[0m\u001b[0;34m]\u001b[0m\u001b[0;34m\u001b[0m\u001b[0;34m\u001b[0m\u001b[0m\n\u001b[1;32m      7\u001b[0m             \u001b[0mSolution\u001b[0m\u001b[0;34m(\u001b[0m\u001b[0;34m)\u001b[0m\u001b[0;34m.\u001b[0m\u001b[0mmergesort\u001b[0m\u001b[0;34m(\u001b[0m\u001b[0mleft_num\u001b[0m\u001b[0;34m)\u001b[0m\u001b[0;34m\u001b[0m\u001b[0;34m\u001b[0m\u001b[0m\n\u001b[0;32m----> 8\u001b[0;31m             \u001b[0mSolution\u001b[0m\u001b[0;34m(\u001b[0m\u001b[0;34m)\u001b[0m\u001b[0;34m.\u001b[0m\u001b[0mmergesort\u001b[0m\u001b[0;34m(\u001b[0m\u001b[0mright_num\u001b[0m\u001b[0;34m)\u001b[0m\u001b[0;34m\u001b[0m\u001b[0;34m\u001b[0m\u001b[0m\n\u001b[0m\u001b[1;32m      9\u001b[0m             \u001b[0mr\u001b[0m\u001b[0;34m=\u001b[0m\u001b[0mm\u001b[0m\u001b[0;34m=\u001b[0m\u001b[0ml\u001b[0m\u001b[0;34m=\u001b[0m\u001b[0;36m0\u001b[0m \u001b[0;31m#r為最右邊的第一值，l為最左邊的第一值\u001b[0m\u001b[0;34m\u001b[0m\u001b[0;34m\u001b[0m\u001b[0m\n\u001b[1;32m     10\u001b[0m \u001b[0;34m\u001b[0m\u001b[0m\n",
      "\u001b[0;32m<ipython-input-16-b2c37186d7de>\u001b[0m in \u001b[0;36mmergesort\u001b[0;34m(self, num)\u001b[0m\n\u001b[1;32m     11\u001b[0m             \u001b[0;32mwhile\u001b[0m \u001b[0ml\u001b[0m \u001b[0;34m<\u001b[0m\u001b[0mlen\u001b[0m\u001b[0;34m(\u001b[0m\u001b[0mleft_num\u001b[0m\u001b[0;34m)\u001b[0m \u001b[0;32mand\u001b[0m \u001b[0mr\u001b[0m\u001b[0;34m<\u001b[0m\u001b[0mlen\u001b[0m\u001b[0;34m(\u001b[0m\u001b[0mright_num\u001b[0m\u001b[0;34m)\u001b[0m\u001b[0;34m:\u001b[0m\u001b[0;31m#左的第幾位數在小於這串樹以前都不會停止。同理右邊也是。\u001b[0m\u001b[0;34m\u001b[0m\u001b[0;34m\u001b[0m\u001b[0m\n\u001b[1;32m     12\u001b[0m                 \u001b[0;32mif\u001b[0m \u001b[0mright_num\u001b[0m\u001b[0;34m[\u001b[0m\u001b[0mr\u001b[0m\u001b[0;34m]\u001b[0m\u001b[0;34m<\u001b[0m \u001b[0mleft_num\u001b[0m\u001b[0;34m[\u001b[0m\u001b[0ml\u001b[0m\u001b[0;34m]\u001b[0m\u001b[0;34m:\u001b[0m\u001b[0;34m\u001b[0m\u001b[0;34m\u001b[0m\u001b[0m\n\u001b[0;32m---> 13\u001b[0;31m                     \u001b[0mnum\u001b[0m\u001b[0;34m[\u001b[0m\u001b[0mm\u001b[0m\u001b[0;34m]\u001b[0m\u001b[0;34m=\u001b[0m\u001b[0mright\u001b[0m\u001b[0;34m[\u001b[0m\u001b[0mr\u001b[0m\u001b[0;34m]\u001b[0m\u001b[0;34m\u001b[0m\u001b[0;34m\u001b[0m\u001b[0m\n\u001b[0m\u001b[1;32m     14\u001b[0m                     \u001b[0mr\u001b[0m\u001b[0;34m=\u001b[0m\u001b[0mr\u001b[0m\u001b[0;34m+\u001b[0m\u001b[0;36m1\u001b[0m\u001b[0;34m\u001b[0m\u001b[0;34m\u001b[0m\u001b[0m\n\u001b[1;32m     15\u001b[0m                 \u001b[0;32melse\u001b[0m\u001b[0;34m:\u001b[0m\u001b[0;34m\u001b[0m\u001b[0;34m\u001b[0m\u001b[0m\n",
      "\u001b[0;31mNameError\u001b[0m: name 'right' is not defined"
     ]
    }
   ],
   "source": [
    "num=[0,3,1,5,1,2]\n",
    "Solution().mergesort(num)\n",
    "num"
   ]
  },
  {
   "cell_type": "markdown",
   "metadata": {},
   "source": [
    "應該為right_num非right\n",
    "\n"
   ]
  },
  {
   "cell_type": "code",
   "execution_count": 18,
   "metadata": {},
   "outputs": [],
   "source": [
    "class Solution(object):\n",
    "    def mergesort(self,num):\n",
    "        if len(num)>1:\n",
    "            mid=len(num)//2\n",
    "            left_num=num[:mid]\n",
    "            right_num=num[mid:]\n",
    "            Solution().mergesort(left_num)\n",
    "            Solution().mergesort(right_num)\n",
    "            r=m=l=0 #r為最右邊的第一值，l為最左邊的第一值\n",
    "            \n",
    "            while l <len(left_num) and r<len(right_num):#左的第幾位數在小於這串樹以前都不會停止。同理右邊也是。\n",
    "                if right_num[r]< left_num[l]:\n",
    "                    num[m]=right_num[r]\n",
    "                    r=r+1\n",
    "                else:\n",
    "                    num[m]=left_num[l]\n",
    "                    l=l+1\n",
    "                m=m+1\n",
    "            while r< len(right_num):\n",
    "                num[m]=right_num[r]\n",
    "                r=r+1\n",
    "                m=m+1\n",
    "            while l <len(left_num):\n",
    "                num[m]=left_num[l]\n",
    "                l=l+1\n",
    "                m=m+1\n",
    "            return num\n",
    "    "
   ]
  },
  {
   "cell_type": "code",
   "execution_count": 19,
   "metadata": {},
   "outputs": [
    {
     "data": {
      "text/plain": [
       "[0, 1, 1, 2, 3, 5]"
      ]
     },
     "execution_count": 19,
     "metadata": {},
     "output_type": "execute_result"
    }
   ],
   "source": [
    "num=[0,3,1,5,1,2]\n",
    "Solution().mergesort(num)\n",
    "num"
   ]
  },
  {
   "cell_type": "code",
   "execution_count": null,
   "metadata": {},
   "outputs": [],
   "source": []
  },
  {
   "cell_type": "code",
   "execution_count": null,
   "metadata": {},
   "outputs": [],
   "source": []
  }
 ],
 "metadata": {
  "kernelspec": {
   "display_name": "Python 3",
   "language": "python",
   "name": "python3"
  },
  "language_info": {
   "codemirror_mode": {
    "name": "ipython",
    "version": 3
   },
   "file_extension": ".py",
   "mimetype": "text/x-python",
   "name": "python",
   "nbconvert_exporter": "python",
   "pygments_lexer": "ipython3",
   "version": "3.7.4"
  }
 },
 "nbformat": 4,
 "nbformat_minor": 2
}
